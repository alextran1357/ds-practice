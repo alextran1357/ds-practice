{
 "cells": [
  {
   "cell_type": "markdown",
   "id": "4ef60058-22cb-4438-a22c-9d5722c5653e",
   "metadata": {},
   "source": [
    "# Cross Validation"
   ]
  },
  {
   "cell_type": "code",
   "execution_count": 24,
   "id": "25dd2237-61d7-483b-91e9-c49a1f194d13",
   "metadata": {},
   "outputs": [],
   "source": [
    "import numpy as np\n",
    "import pandas as pd\n",
    "import statsmodels.api as sm\n",
    "from sklearn.model_selection import train_test_split, cross_validate, KFold, ShuffleSplit\n",
    "from statsmodels.stats.outliers_influence import variance_inflation_factor as VIF\n",
    "from sklearn.preprocessing import StandardScaler\n",
    "from sklearn.linear_model import LogisticRegression\n",
    "from sklearn.pipeline import make_pipeline\n",
    "from ISLP.models import sklearn_sm"
   ]
  },
  {
   "cell_type": "code",
   "execution_count": 2,
   "id": "764f3b33-dc10-4e53-a00a-aea85576f4cf",
   "metadata": {},
   "outputs": [],
   "source": [
    "heart_attack = pd.read_csv('../02-logistic-regression/data/Medicaldataset.csv')"
   ]
  },
  {
   "cell_type": "code",
   "execution_count": 3,
   "id": "e35bc8a8-c3ac-4f4d-9950-d195021fd3de",
   "metadata": {},
   "outputs": [
    {
     "data": {
      "text/html": [
       "<div>\n",
       "<style scoped>\n",
       "    .dataframe tbody tr th:only-of-type {\n",
       "        vertical-align: middle;\n",
       "    }\n",
       "\n",
       "    .dataframe tbody tr th {\n",
       "        vertical-align: top;\n",
       "    }\n",
       "\n",
       "    .dataframe thead th {\n",
       "        text-align: right;\n",
       "    }\n",
       "</style>\n",
       "<table border=\"1\" class=\"dataframe\">\n",
       "  <thead>\n",
       "    <tr style=\"text-align: right;\">\n",
       "      <th></th>\n",
       "      <th>Age</th>\n",
       "      <th>Gender</th>\n",
       "      <th>Heart rate</th>\n",
       "      <th>Systolic blood pressure</th>\n",
       "      <th>Diastolic blood pressure</th>\n",
       "      <th>Blood sugar</th>\n",
       "      <th>CK-MB</th>\n",
       "      <th>Troponin</th>\n",
       "      <th>Result</th>\n",
       "    </tr>\n",
       "  </thead>\n",
       "  <tbody>\n",
       "    <tr>\n",
       "      <th>0</th>\n",
       "      <td>64</td>\n",
       "      <td>1</td>\n",
       "      <td>66</td>\n",
       "      <td>160</td>\n",
       "      <td>83</td>\n",
       "      <td>160.0</td>\n",
       "      <td>1.80</td>\n",
       "      <td>0.012</td>\n",
       "      <td>negative</td>\n",
       "    </tr>\n",
       "    <tr>\n",
       "      <th>1</th>\n",
       "      <td>21</td>\n",
       "      <td>1</td>\n",
       "      <td>94</td>\n",
       "      <td>98</td>\n",
       "      <td>46</td>\n",
       "      <td>296.0</td>\n",
       "      <td>6.75</td>\n",
       "      <td>1.060</td>\n",
       "      <td>positive</td>\n",
       "    </tr>\n",
       "    <tr>\n",
       "      <th>2</th>\n",
       "      <td>55</td>\n",
       "      <td>1</td>\n",
       "      <td>64</td>\n",
       "      <td>160</td>\n",
       "      <td>77</td>\n",
       "      <td>270.0</td>\n",
       "      <td>1.99</td>\n",
       "      <td>0.003</td>\n",
       "      <td>negative</td>\n",
       "    </tr>\n",
       "    <tr>\n",
       "      <th>3</th>\n",
       "      <td>64</td>\n",
       "      <td>1</td>\n",
       "      <td>70</td>\n",
       "      <td>120</td>\n",
       "      <td>55</td>\n",
       "      <td>270.0</td>\n",
       "      <td>13.87</td>\n",
       "      <td>0.122</td>\n",
       "      <td>positive</td>\n",
       "    </tr>\n",
       "    <tr>\n",
       "      <th>4</th>\n",
       "      <td>55</td>\n",
       "      <td>1</td>\n",
       "      <td>64</td>\n",
       "      <td>112</td>\n",
       "      <td>65</td>\n",
       "      <td>300.0</td>\n",
       "      <td>1.08</td>\n",
       "      <td>0.003</td>\n",
       "      <td>negative</td>\n",
       "    </tr>\n",
       "    <tr>\n",
       "      <th>...</th>\n",
       "      <td>...</td>\n",
       "      <td>...</td>\n",
       "      <td>...</td>\n",
       "      <td>...</td>\n",
       "      <td>...</td>\n",
       "      <td>...</td>\n",
       "      <td>...</td>\n",
       "      <td>...</td>\n",
       "      <td>...</td>\n",
       "    </tr>\n",
       "    <tr>\n",
       "      <th>1314</th>\n",
       "      <td>44</td>\n",
       "      <td>1</td>\n",
       "      <td>94</td>\n",
       "      <td>122</td>\n",
       "      <td>67</td>\n",
       "      <td>204.0</td>\n",
       "      <td>1.63</td>\n",
       "      <td>0.006</td>\n",
       "      <td>negative</td>\n",
       "    </tr>\n",
       "    <tr>\n",
       "      <th>1315</th>\n",
       "      <td>66</td>\n",
       "      <td>1</td>\n",
       "      <td>84</td>\n",
       "      <td>125</td>\n",
       "      <td>55</td>\n",
       "      <td>149.0</td>\n",
       "      <td>1.33</td>\n",
       "      <td>0.172</td>\n",
       "      <td>positive</td>\n",
       "    </tr>\n",
       "    <tr>\n",
       "      <th>1316</th>\n",
       "      <td>45</td>\n",
       "      <td>1</td>\n",
       "      <td>85</td>\n",
       "      <td>168</td>\n",
       "      <td>104</td>\n",
       "      <td>96.0</td>\n",
       "      <td>1.24</td>\n",
       "      <td>4.250</td>\n",
       "      <td>positive</td>\n",
       "    </tr>\n",
       "    <tr>\n",
       "      <th>1317</th>\n",
       "      <td>54</td>\n",
       "      <td>1</td>\n",
       "      <td>58</td>\n",
       "      <td>117</td>\n",
       "      <td>68</td>\n",
       "      <td>443.0</td>\n",
       "      <td>5.80</td>\n",
       "      <td>0.359</td>\n",
       "      <td>positive</td>\n",
       "    </tr>\n",
       "    <tr>\n",
       "      <th>1318</th>\n",
       "      <td>51</td>\n",
       "      <td>1</td>\n",
       "      <td>94</td>\n",
       "      <td>157</td>\n",
       "      <td>79</td>\n",
       "      <td>134.0</td>\n",
       "      <td>50.89</td>\n",
       "      <td>1.770</td>\n",
       "      <td>positive</td>\n",
       "    </tr>\n",
       "  </tbody>\n",
       "</table>\n",
       "<p>1319 rows × 9 columns</p>\n",
       "</div>"
      ],
      "text/plain": [
       "      Age  Gender  Heart rate  Systolic blood pressure  \\\n",
       "0      64       1          66                      160   \n",
       "1      21       1          94                       98   \n",
       "2      55       1          64                      160   \n",
       "3      64       1          70                      120   \n",
       "4      55       1          64                      112   \n",
       "...   ...     ...         ...                      ...   \n",
       "1314   44       1          94                      122   \n",
       "1315   66       1          84                      125   \n",
       "1316   45       1          85                      168   \n",
       "1317   54       1          58                      117   \n",
       "1318   51       1          94                      157   \n",
       "\n",
       "      Diastolic blood pressure  Blood sugar  CK-MB  Troponin    Result  \n",
       "0                           83        160.0   1.80     0.012  negative  \n",
       "1                           46        296.0   6.75     1.060  positive  \n",
       "2                           77        270.0   1.99     0.003  negative  \n",
       "3                           55        270.0  13.87     0.122  positive  \n",
       "4                           65        300.0   1.08     0.003  negative  \n",
       "...                        ...          ...    ...       ...       ...  \n",
       "1314                        67        204.0   1.63     0.006  negative  \n",
       "1315                        55        149.0   1.33     0.172  positive  \n",
       "1316                       104         96.0   1.24     4.250  positive  \n",
       "1317                        68        443.0   5.80     0.359  positive  \n",
       "1318                        79        134.0  50.89     1.770  positive  \n",
       "\n",
       "[1319 rows x 9 columns]"
      ]
     },
     "execution_count": 3,
     "metadata": {},
     "output_type": "execute_result"
    }
   ],
   "source": [
    "heart_attack"
   ]
  },
  {
   "cell_type": "code",
   "execution_count": 4,
   "id": "51095783-8cc6-4d09-a032-d1e7a3713372",
   "metadata": {},
   "outputs": [],
   "source": [
    "X = heart_attack.drop(columns='Result')\n",
    "y = heart_attack['Result']\n",
    "y = y.map({'negative':0, 'positive':1})"
   ]
  },
  {
   "cell_type": "code",
   "execution_count": 5,
   "id": "6f300fdc-7739-455a-a36e-8d9d28aaa927",
   "metadata": {},
   "outputs": [],
   "source": [
    "X_train, X_test, y_train, y_test = train_test_split(X, y, test_size=.5, random_state=0)"
   ]
  },
  {
   "cell_type": "code",
   "execution_count": 7,
   "id": "3cbd4e40-ad70-44e9-88a6-6978a33d2109",
   "metadata": {},
   "outputs": [],
   "source": [
    "scaler = StandardScaler()"
   ]
  },
  {
   "cell_type": "code",
   "execution_count": 8,
   "id": "78833c0d-717b-4143-8acf-f66eed3e8460",
   "metadata": {},
   "outputs": [],
   "source": [
    "def Pipeline(X, y, scaler):\n",
    "    X_scaled = pd.DataFrame(scaler.fit_transform(X, y), columns=X.columns, index=X.index)\n",
    "    return X_scaled, scaler"
   ]
  },
  {
   "cell_type": "code",
   "execution_count": 10,
   "id": "0f9b39fb-b804-4247-a376-cd8723cdd621",
   "metadata": {},
   "outputs": [
    {
     "name": "stdout",
     "output_type": "stream",
     "text": [
      "                 Generalized Linear Model Regression Results                  \n",
      "==============================================================================\n",
      "Dep. Variable:                 Result   No. Observations:                  659\n",
      "Model:                            GLM   Df Residuals:                      651\n",
      "Model Family:                Binomial   Df Model:                            7\n",
      "Link Function:                  Logit   Scale:                          1.0000\n",
      "Method:                          IRLS   Log-Likelihood:                -395.64\n",
      "Date:                Mon, 02 Jun 2025   Deviance:                       791.28\n",
      "Time:                        16:50:30   Pearson chi2:                 1.78e+03\n",
      "No. Iterations:                     6   Pseudo R-squ. (CS):             0.1164\n",
      "Covariance Type:            nonrobust                                         \n",
      "============================================================================================\n",
      "                               coef    std err          z      P>|z|      [0.025      0.975]\n",
      "--------------------------------------------------------------------------------------------\n",
      "Age                          0.4804      0.090      5.317      0.000       0.303       0.657\n",
      "Gender                       0.2037      0.087      2.342      0.019       0.033       0.374\n",
      "Heart rate                   0.1079      0.134      0.803      0.422      -0.156       0.372\n",
      "Systolic blood pressure     -0.0536      0.111     -0.483      0.629      -0.271       0.164\n",
      "Diastolic blood pressure    -0.0059      0.110     -0.054      0.957      -0.221       0.209\n",
      "Blood sugar                 -0.1517      0.089     -1.714      0.087      -0.325       0.022\n",
      "CK-MB                        0.8602      0.192      4.491      0.000       0.485       1.236\n",
      "Troponin                     0.8696      0.182      4.789      0.000       0.514       1.225\n",
      "============================================================================================\n"
     ]
    }
   ],
   "source": [
    "X_scaled, scaler = Pipeline(X_train, y_train, scaler)\n",
    "model = sm.GLM(y_train, X_scaled, family=sm.families.Binomial()).fit()\n",
    "print(model.summary())"
   ]
  },
  {
   "cell_type": "code",
   "execution_count": 11,
   "id": "9a674da1-e144-4052-89da-f2b1bb37b695",
   "metadata": {},
   "outputs": [
    {
     "data": {
      "text/html": [
       "<div>\n",
       "<style scoped>\n",
       "    .dataframe tbody tr th:only-of-type {\n",
       "        vertical-align: middle;\n",
       "    }\n",
       "\n",
       "    .dataframe tbody tr th {\n",
       "        vertical-align: top;\n",
       "    }\n",
       "\n",
       "    .dataframe thead th {\n",
       "        text-align: right;\n",
       "    }\n",
       "</style>\n",
       "<table border=\"1\" class=\"dataframe\">\n",
       "  <thead>\n",
       "    <tr style=\"text-align: right;\">\n",
       "      <th></th>\n",
       "      <th>vif</th>\n",
       "    </tr>\n",
       "  </thead>\n",
       "  <tbody>\n",
       "    <tr>\n",
       "      <th>Gender</th>\n",
       "      <td>1.006368</td>\n",
       "    </tr>\n",
       "    <tr>\n",
       "      <th>Heart rate</th>\n",
       "      <td>1.017856</td>\n",
       "    </tr>\n",
       "    <tr>\n",
       "      <th>Systolic blood pressure</th>\n",
       "      <td>1.642202</td>\n",
       "    </tr>\n",
       "    <tr>\n",
       "      <th>Diastolic blood pressure</th>\n",
       "      <td>1.648465</td>\n",
       "    </tr>\n",
       "    <tr>\n",
       "      <th>Blood sugar</th>\n",
       "      <td>1.014557</td>\n",
       "    </tr>\n",
       "    <tr>\n",
       "      <th>CK-MB</th>\n",
       "      <td>1.004522</td>\n",
       "    </tr>\n",
       "    <tr>\n",
       "      <th>Troponin</th>\n",
       "      <td>1.019892</td>\n",
       "    </tr>\n",
       "  </tbody>\n",
       "</table>\n",
       "</div>"
      ],
      "text/plain": [
       "                               vif\n",
       "Gender                    1.006368\n",
       "Heart rate                1.017856\n",
       "Systolic blood pressure   1.642202\n",
       "Diastolic blood pressure  1.648465\n",
       "Blood sugar               1.014557\n",
       "CK-MB                     1.004522\n",
       "Troponin                  1.019892"
      ]
     },
     "execution_count": 11,
     "metadata": {},
     "output_type": "execute_result"
    }
   ],
   "source": [
    "vals = [VIF(X_scaled, i) for i in range(1, X_scaled.shape[1])]\n",
    "vif = pd.DataFrame({'vif':vals},\n",
    "                   index=X_scaled.columns[1:])\n",
    "vif"
   ]
  },
  {
   "cell_type": "code",
   "execution_count": 12,
   "id": "80b3975b-51b8-42e7-b5ea-68787f13d6c3",
   "metadata": {},
   "outputs": [],
   "source": [
    "X_test_scaled = scaler.transform(X_test)"
   ]
  },
  {
   "cell_type": "code",
   "execution_count": 14,
   "id": "f8981efc-4c32-4b13-8e97-af795eb578cc",
   "metadata": {},
   "outputs": [],
   "source": [
    "preds = model.predict(X_test_scaled)"
   ]
  },
  {
   "cell_type": "code",
   "execution_count": 16,
   "id": "bae598e0-84ce-4c2e-9d4b-68733ecd09a2",
   "metadata": {},
   "outputs": [
    {
     "data": {
      "text/plain": [
       "0.6742424242424242"
      ]
     },
     "execution_count": 16,
     "metadata": {},
     "output_type": "execute_result"
    }
   ],
   "source": [
    "labels = np.array([0]*660 )\n",
    "labels[preds>0.5] = 1\n",
    "np.mean(labels == y_test)"
   ]
  },
  {
   "cell_type": "markdown",
   "id": "374b352f-92c1-4d87-b66f-965a5144ec1a",
   "metadata": {},
   "source": [
    "## Reduction"
   ]
  },
  {
   "cell_type": "code",
   "execution_count": 17,
   "id": "edef3fa2-2cb0-4a59-b2f1-c072356ebd7f",
   "metadata": {},
   "outputs": [
    {
     "name": "stdout",
     "output_type": "stream",
     "text": [
      "                 Generalized Linear Model Regression Results                  \n",
      "==============================================================================\n",
      "Dep. Variable:                 Result   No. Observations:                  659\n",
      "Model:                            GLM   Df Residuals:                      654\n",
      "Model Family:                Binomial   Df Model:                            4\n",
      "Link Function:                  Logit   Scale:                          1.0000\n",
      "Method:                          IRLS   Log-Likelihood:                -396.39\n",
      "Date:                Mon, 02 Jun 2025   Deviance:                       792.78\n",
      "Time:                        16:57:44   Pearson chi2:                 1.83e+03\n",
      "No. Iterations:                     6   Pseudo R-squ. (CS):             0.1144\n",
      "Covariance Type:            nonrobust                                         \n",
      "===============================================================================\n",
      "                  coef    std err          z      P>|z|      [0.025      0.975]\n",
      "-------------------------------------------------------------------------------\n",
      "Age             0.4767      0.090      5.287      0.000       0.300       0.653\n",
      "Gender          0.2065      0.087      2.378      0.017       0.036       0.377\n",
      "Blood sugar    -0.1566      0.088     -1.776      0.076      -0.330       0.016\n",
      "CK-MB           0.8659      0.192      4.520      0.000       0.490       1.241\n",
      "Troponin        0.8704      0.181      4.803      0.000       0.515       1.226\n",
      "===============================================================================\n"
     ]
    }
   ],
   "source": [
    "x_reduced = X_train.drop(columns=['Diastolic blood pressure', 'Systolic blood pressure', 'Heart rate'])\n",
    "scaler_reduced = StandardScaler()\n",
    "x_reduced_scaled, scaler_reduced = Pipeline(x_reduced, y_train, scaler_reduced)\n",
    "model_reduced = sm.GLM(y_train, x_reduced_scaled, family=sm.families.Binomial()).fit()\n",
    "print(model_reduced.summary())"
   ]
  },
  {
   "cell_type": "code",
   "execution_count": 19,
   "id": "4399dab6-a0a0-4a0a-89c2-a00a12ec90fe",
   "metadata": {},
   "outputs": [],
   "source": [
    "x_test_reduced = X_test.drop(columns=['Diastolic blood pressure', 'Systolic blood pressure', 'Heart rate'])\n",
    "x_test_reduced_scaled = scaler_reduced.transform(x_test_reduced)"
   ]
  },
  {
   "cell_type": "code",
   "execution_count": 20,
   "id": "c69c9378-6803-40c2-8edc-4593856ba785",
   "metadata": {},
   "outputs": [],
   "source": [
    "preds = model_reduced.predict(x_test_reduced_scaled)"
   ]
  },
  {
   "cell_type": "code",
   "execution_count": 21,
   "id": "215f3b09-aceb-40e5-a44f-c537ad57f7aa",
   "metadata": {},
   "outputs": [
    {
     "data": {
      "text/plain": [
       "0.6878787878787879"
      ]
     },
     "execution_count": 21,
     "metadata": {},
     "output_type": "execute_result"
    }
   ],
   "source": [
    "labels = np.array([0]*660 )\n",
    "labels[preds>0.5] = 1\n",
    "np.mean(labels == y_test)"
   ]
  },
  {
   "cell_type": "markdown",
   "id": "72f44e39-2898-486f-8018-5e5a4346015a",
   "metadata": {},
   "source": [
    "## Cross Validation \n",
    "Taking a look through Scikit-Learn, there is a function calling LogisticRegressionCV which I will try out. It seem to fit everything that I want to test"
   ]
  },
  {
   "cell_type": "code",
   "execution_count": 49,
   "id": "23b42327-18cd-4a16-8f05-59541b6b9b7c",
   "metadata": {},
   "outputs": [],
   "source": [
    "X_reduced = X.drop(columns=['Diastolic blood pressure', 'Systolic blood pressure', 'Heart rate'])\n",
    "model = make_pipeline(StandardScaler(), LogisticRegression(solver='liblinear'))"
   ]
  },
  {
   "cell_type": "code",
   "execution_count": 52,
   "id": "3f430890-cbb2-4671-81f5-ba8794469992",
   "metadata": {},
   "outputs": [
    {
     "name": "stdout",
     "output_type": "stream",
     "text": [
      "[CV] END ......................................., score=0.803 total time=   0.0s\n",
      "[CV] END ......................................., score=0.780 total time=   0.0s\n",
      "[CV] END ......................................., score=0.788 total time=   0.0s\n",
      "[CV] END ......................................., score=0.788 total time=   0.0s\n",
      "[CV] END ......................................., score=0.798 total time=   0.0s\n",
      "0.7915139993086762\n"
     ]
    }
   ],
   "source": [
    "cv_results = cross_validate(model, X_reduced, y, cv=5, verbose=3)\n",
    "print(cv_results['test_score'].mean())"
   ]
  },
  {
   "cell_type": "code",
   "execution_count": 51,
   "id": "85dec3ef-887f-42cf-85be-30f058e2dfff",
   "metadata": {},
   "outputs": [
    {
     "name": "stdout",
     "output_type": "stream",
     "text": [
      "[CV] END ......................................., score=0.765 total time=   0.0s\n",
      "[CV] END ......................................., score=0.803 total time=   0.0s\n",
      "[CV] END ......................................., score=0.848 total time=   0.0s\n",
      "[CV] END ......................................., score=0.735 total time=   0.0s\n",
      "[CV] END ......................................., score=0.773 total time=   0.0s\n",
      "[CV] END ......................................., score=0.811 total time=   0.0s\n",
      "[CV] END ......................................., score=0.818 total time=   0.0s\n",
      "[CV] END ......................................., score=0.765 total time=   0.0s\n",
      "[CV] END ......................................., score=0.811 total time=   0.0s\n",
      "[CV] END ......................................., score=0.756 total time=   0.0s\n",
      "0.7915139993086762\n"
     ]
    }
   ],
   "source": [
    "cv = KFold(n_splits=10, shuffle=True, random_state=0)\n",
    "cv_results2 = cross_validate(model, X_reduced, y, cv=cv, verbose=3)\n",
    "print(cv_results['test_score'].mean())"
   ]
  },
  {
   "cell_type": "code",
   "execution_count": 56,
   "id": "18942881-6758-416d-a436-5dd58c8cf145",
   "metadata": {},
   "outputs": [
    {
     "name": "stdout",
     "output_type": "stream",
     "text": [
      "0.7826530612244899\n"
     ]
    }
   ],
   "source": [
    "validation = ShuffleSplit(n_splits=5, test_size=196)\n",
    "results = cross_validate(model, X_reduced, y, cv=validation)\n",
    "print(results['test_score'].mean())"
   ]
  }
 ],
 "metadata": {
  "kernelspec": {
   "display_name": "Python 3 (ipykernel)",
   "language": "python",
   "name": "python3"
  },
  "language_info": {
   "codemirror_mode": {
    "name": "ipython",
    "version": 3
   },
   "file_extension": ".py",
   "mimetype": "text/x-python",
   "name": "python",
   "nbconvert_exporter": "python",
   "pygments_lexer": "ipython3",
   "version": "3.12.9"
  }
 },
 "nbformat": 4,
 "nbformat_minor": 5
}
